{
  "nbformat": 4,
  "nbformat_minor": 0,
  "metadata": {
    "colab": {
      "name": "Untitled0.ipynb",
      "version": "0.3.2",
      "provenance": [],
      "include_colab_link": true
    },
    "kernelspec": {
      "name": "python3",
      "display_name": "Python 3"
    },
    "accelerator": "GPU"
  },
  "cells": [
    {
      "cell_type": "markdown",
      "metadata": {
        "id": "view-in-github",
        "colab_type": "text"
      },
      "source": [
        "[View in Colaboratory](https://colab.research.google.com/github/aliawadh980/test-repository/blob/master/tensorflow_keras_test.ipynb)"
      ]
    },
    {
      "metadata": {
        "id": "CPXvWMfIwhGf",
        "colab_type": "code",
        "colab": {
          "base_uri": "https://localhost:8080/",
          "height": 34
        },
        "outputId": "ecd79c34-8156-45ee-d550-3b6dc68b8863"
      },
      "cell_type": "code",
      "source": [
        "import itertools\n",
        "import os\n",
        "import math\n",
        "import numpy as np\n",
        "import pandas as pd\n",
        "import tensorflow as tf\n",
        "\n",
        "from sklearn.preprocessing import LabelEncoder\n",
        "from tensorflow import keras\n",
        "layers = keras.layers\n",
        "\n",
        "# This code was tested with TensorFlow v1.7\n",
        "print(\"You have TensorFlow version\", tf.__version__)"
      ],
      "execution_count": 2,
      "outputs": [
        {
          "output_type": "stream",
          "text": [
            "You have TensorFlow version 1.9.0-rc1\n"
          ],
          "name": "stdout"
        }
      ]
    },
    {
      "metadata": {
        "id": "Xs8LNxrIwzL4",
        "colab_type": "code",
        "colab": {
          "base_uri": "https://localhost:8080/",
          "height": 345
        },
        "outputId": "0e782589-60e6-4806-eb76-a0a68b6b5a96"
      },
      "cell_type": "code",
      "source": [
        "# Get the data: original source is here: https://www.kaggle.com/zynicide/wine-reviews/data\n",
        "URL = \"https://storage.googleapis.com/sara-cloud-ml/wine_data.csv\"\n",
        "path = tf.keras.utils.get_file(URL.split('/')[-1], URL)\n",
        "\n",
        "# Convert the data to a Pandas data frame\n",
        "data = pd.read_csv(path)\n",
        "\n",
        "# Shuffle the data\n",
        "data = data.sample(frac=1)\n",
        "\n",
        "# Print the first 5 rows\n",
        "data.head()"
      ],
      "execution_count": 3,
      "outputs": [
        {
          "output_type": "stream",
          "text": [
            "Downloading data from https://storage.googleapis.com/sara-cloud-ml/wine_data.csv\n",
            "49790976/49783940 [==============================] - 1s 0us/step\n"
          ],
          "name": "stdout"
        },
        {
          "output_type": "execute_result",
          "data": {
            "text/html": [
              "<div>\n",
              "<style scoped>\n",
              "    .dataframe tbody tr th:only-of-type {\n",
              "        vertical-align: middle;\n",
              "    }\n",
              "\n",
              "    .dataframe tbody tr th {\n",
              "        vertical-align: top;\n",
              "    }\n",
              "\n",
              "    .dataframe thead th {\n",
              "        text-align: right;\n",
              "    }\n",
              "</style>\n",
              "<table border=\"1\" class=\"dataframe\">\n",
              "  <thead>\n",
              "    <tr style=\"text-align: right;\">\n",
              "      <th></th>\n",
              "      <th>Unnamed: 0</th>\n",
              "      <th>country</th>\n",
              "      <th>description</th>\n",
              "      <th>designation</th>\n",
              "      <th>points</th>\n",
              "      <th>price</th>\n",
              "      <th>province</th>\n",
              "      <th>region_1</th>\n",
              "      <th>region_2</th>\n",
              "      <th>variety</th>\n",
              "      <th>winery</th>\n",
              "    </tr>\n",
              "  </thead>\n",
              "  <tbody>\n",
              "    <tr>\n",
              "      <th>52955</th>\n",
              "      <td>52955</td>\n",
              "      <td>US</td>\n",
              "      <td>Abeja's main production is centered upon their...</td>\n",
              "      <td>NaN</td>\n",
              "      <td>92</td>\n",
              "      <td>45.0</td>\n",
              "      <td>Washington</td>\n",
              "      <td>Columbia Valley (WA)</td>\n",
              "      <td>Columbia Valley</td>\n",
              "      <td>Cabernet Sauvignon</td>\n",
              "      <td>Abeja</td>\n",
              "    </tr>\n",
              "    <tr>\n",
              "      <th>121843</th>\n",
              "      <td>121843</td>\n",
              "      <td>France</td>\n",
              "      <td>Rich, full, powerful Chardonnay, with yellow f...</td>\n",
              "      <td>Perrières Premier Cru</td>\n",
              "      <td>94</td>\n",
              "      <td>106.0</td>\n",
              "      <td>Burgundy</td>\n",
              "      <td>Meursault</td>\n",
              "      <td>NaN</td>\n",
              "      <td>Chardonnay</td>\n",
              "      <td>Bouchard Père &amp; Fils</td>\n",
              "    </tr>\n",
              "    <tr>\n",
              "      <th>38586</th>\n",
              "      <td>38586</td>\n",
              "      <td>US</td>\n",
              "      <td>A pleasant, easy to drink Chardonnay whose pri...</td>\n",
              "      <td>Lightly Oaked</td>\n",
              "      <td>86</td>\n",
              "      <td>8.0</td>\n",
              "      <td>California</td>\n",
              "      <td>California</td>\n",
              "      <td>California Other</td>\n",
              "      <td>Chardonnay</td>\n",
              "      <td>Woodbridge by Robert Mondavi</td>\n",
              "    </tr>\n",
              "    <tr>\n",
              "      <th>48972</th>\n",
              "      <td>48972</td>\n",
              "      <td>Chile</td>\n",
              "      <td>Try as I might, I haven't been able to jump on...</td>\n",
              "      <td>Reserva Especial</td>\n",
              "      <td>85</td>\n",
              "      <td>22.0</td>\n",
              "      <td>Limarí Valley</td>\n",
              "      <td>NaN</td>\n",
              "      <td>NaN</td>\n",
              "      <td>Sauvignon Blanc</td>\n",
              "      <td>Maycas del Limari</td>\n",
              "    </tr>\n",
              "    <tr>\n",
              "      <th>75805</th>\n",
              "      <td>75805</td>\n",
              "      <td>France</td>\n",
              "      <td>This ripe wine is full of tropical and citrus ...</td>\n",
              "      <td>Cuvée Prestige</td>\n",
              "      <td>89</td>\n",
              "      <td>10.0</td>\n",
              "      <td>Bordeaux</td>\n",
              "      <td>Bordeaux Blanc</td>\n",
              "      <td>NaN</td>\n",
              "      <td>Sémillon</td>\n",
              "      <td>Château Haut Guillebot</td>\n",
              "    </tr>\n",
              "  </tbody>\n",
              "</table>\n",
              "</div>"
            ],
            "text/plain": [
              "        Unnamed: 0 country                                        description  \\\n",
              "52955        52955      US  Abeja's main production is centered upon their...   \n",
              "121843      121843  France  Rich, full, powerful Chardonnay, with yellow f...   \n",
              "38586        38586      US  A pleasant, easy to drink Chardonnay whose pri...   \n",
              "48972        48972   Chile  Try as I might, I haven't been able to jump on...   \n",
              "75805        75805  France  This ripe wine is full of tropical and citrus ...   \n",
              "\n",
              "                  designation  points  price       province  \\\n",
              "52955                     NaN      92   45.0     Washington   \n",
              "121843  Perrières Premier Cru      94  106.0       Burgundy   \n",
              "38586           Lightly Oaked      86    8.0     California   \n",
              "48972        Reserva Especial      85   22.0  Limarí Valley   \n",
              "75805          Cuvée Prestige      89   10.0       Bordeaux   \n",
              "\n",
              "                    region_1          region_2             variety  \\\n",
              "52955   Columbia Valley (WA)   Columbia Valley  Cabernet Sauvignon   \n",
              "121843             Meursault               NaN          Chardonnay   \n",
              "38586             California  California Other          Chardonnay   \n",
              "48972                    NaN               NaN     Sauvignon Blanc   \n",
              "75805         Bordeaux Blanc               NaN            Sémillon   \n",
              "\n",
              "                              winery  \n",
              "52955                          Abeja  \n",
              "121843          Bouchard Père & Fils  \n",
              "38586   Woodbridge by Robert Mondavi  \n",
              "48972              Maycas del Limari  \n",
              "75805         Château Haut Guillebot  "
            ]
          },
          "metadata": {
            "tags": []
          },
          "execution_count": 3
        }
      ]
    },
    {
      "metadata": {
        "id": "3E5L8gzmxNet",
        "colab_type": "code",
        "colab": {}
      },
      "cell_type": "code",
      "source": [
        "# Do some preprocessing to limit the # of wine varities in the dataset\n",
        "data = data[pd.notnull(data['country'])]\n",
        "data = data[pd.notnull(data['price'])]\n",
        "data = data.drop(data.columns[0], axis=1) \n",
        "\n",
        "variety_threshold = 500 # Anything that occurs less than this will be removed.\n",
        "value_counts = data['variety'].value_counts()\n",
        "to_remove = value_counts[value_counts <= variety_threshold].index\n",
        "data.replace(to_remove, np.nan, inplace=True)\n",
        "data = data[pd.notnull(data['variety'])]"
      ],
      "execution_count": 0,
      "outputs": []
    },
    {
      "metadata": {
        "id": "hbMIGdQexccN",
        "colab_type": "code",
        "colab": {
          "base_uri": "https://localhost:8080/",
          "height": 293
        },
        "outputId": "32699a14-4f83-42d2-84f3-a3d26492a8d1"
      },
      "cell_type": "code",
      "source": [
        "data.head()"
      ],
      "execution_count": 5,
      "outputs": [
        {
          "output_type": "execute_result",
          "data": {
            "text/html": [
              "<div>\n",
              "<style scoped>\n",
              "    .dataframe tbody tr th:only-of-type {\n",
              "        vertical-align: middle;\n",
              "    }\n",
              "\n",
              "    .dataframe tbody tr th {\n",
              "        vertical-align: top;\n",
              "    }\n",
              "\n",
              "    .dataframe thead th {\n",
              "        text-align: right;\n",
              "    }\n",
              "</style>\n",
              "<table border=\"1\" class=\"dataframe\">\n",
              "  <thead>\n",
              "    <tr style=\"text-align: right;\">\n",
              "      <th></th>\n",
              "      <th>country</th>\n",
              "      <th>description</th>\n",
              "      <th>designation</th>\n",
              "      <th>points</th>\n",
              "      <th>price</th>\n",
              "      <th>province</th>\n",
              "      <th>region_1</th>\n",
              "      <th>region_2</th>\n",
              "      <th>variety</th>\n",
              "      <th>winery</th>\n",
              "    </tr>\n",
              "  </thead>\n",
              "  <tbody>\n",
              "    <tr>\n",
              "      <th>52955</th>\n",
              "      <td>US</td>\n",
              "      <td>Abeja's main production is centered upon their...</td>\n",
              "      <td>NaN</td>\n",
              "      <td>92</td>\n",
              "      <td>45.0</td>\n",
              "      <td>Washington</td>\n",
              "      <td>Columbia Valley (WA)</td>\n",
              "      <td>Columbia Valley</td>\n",
              "      <td>Cabernet Sauvignon</td>\n",
              "      <td>Abeja</td>\n",
              "    </tr>\n",
              "    <tr>\n",
              "      <th>121843</th>\n",
              "      <td>France</td>\n",
              "      <td>Rich, full, powerful Chardonnay, with yellow f...</td>\n",
              "      <td>Perrières Premier Cru</td>\n",
              "      <td>94</td>\n",
              "      <td>106.0</td>\n",
              "      <td>Burgundy</td>\n",
              "      <td>Meursault</td>\n",
              "      <td>NaN</td>\n",
              "      <td>Chardonnay</td>\n",
              "      <td>Bouchard Père &amp; Fils</td>\n",
              "    </tr>\n",
              "    <tr>\n",
              "      <th>38586</th>\n",
              "      <td>US</td>\n",
              "      <td>A pleasant, easy to drink Chardonnay whose pri...</td>\n",
              "      <td>Lightly Oaked</td>\n",
              "      <td>86</td>\n",
              "      <td>8.0</td>\n",
              "      <td>California</td>\n",
              "      <td>California</td>\n",
              "      <td>California Other</td>\n",
              "      <td>Chardonnay</td>\n",
              "      <td>Woodbridge by Robert Mondavi</td>\n",
              "    </tr>\n",
              "    <tr>\n",
              "      <th>48972</th>\n",
              "      <td>Chile</td>\n",
              "      <td>Try as I might, I haven't been able to jump on...</td>\n",
              "      <td>Reserva Especial</td>\n",
              "      <td>85</td>\n",
              "      <td>22.0</td>\n",
              "      <td>Limarí Valley</td>\n",
              "      <td>NaN</td>\n",
              "      <td>NaN</td>\n",
              "      <td>Sauvignon Blanc</td>\n",
              "      <td>Maycas del Limari</td>\n",
              "    </tr>\n",
              "    <tr>\n",
              "      <th>5950</th>\n",
              "      <td>Spain</td>\n",
              "      <td>Baked notes of raisin and raspberry blend with...</td>\n",
              "      <td>Crianza</td>\n",
              "      <td>86</td>\n",
              "      <td>15.0</td>\n",
              "      <td>Northern Spain</td>\n",
              "      <td>Rioja</td>\n",
              "      <td>NaN</td>\n",
              "      <td>Tempranillo Blend</td>\n",
              "      <td>Viña Herminia</td>\n",
              "    </tr>\n",
              "  </tbody>\n",
              "</table>\n",
              "</div>"
            ],
            "text/plain": [
              "       country                                        description  \\\n",
              "52955       US  Abeja's main production is centered upon their...   \n",
              "121843  France  Rich, full, powerful Chardonnay, with yellow f...   \n",
              "38586       US  A pleasant, easy to drink Chardonnay whose pri...   \n",
              "48972    Chile  Try as I might, I haven't been able to jump on...   \n",
              "5950     Spain  Baked notes of raisin and raspberry blend with...   \n",
              "\n",
              "                  designation  points  price        province  \\\n",
              "52955                     NaN      92   45.0      Washington   \n",
              "121843  Perrières Premier Cru      94  106.0        Burgundy   \n",
              "38586           Lightly Oaked      86    8.0      California   \n",
              "48972        Reserva Especial      85   22.0   Limarí Valley   \n",
              "5950                  Crianza      86   15.0  Northern Spain   \n",
              "\n",
              "                    region_1          region_2             variety  \\\n",
              "52955   Columbia Valley (WA)   Columbia Valley  Cabernet Sauvignon   \n",
              "121843             Meursault               NaN          Chardonnay   \n",
              "38586             California  California Other          Chardonnay   \n",
              "48972                    NaN               NaN     Sauvignon Blanc   \n",
              "5950                   Rioja               NaN   Tempranillo Blend   \n",
              "\n",
              "                              winery  \n",
              "52955                          Abeja  \n",
              "121843          Bouchard Père & Fils  \n",
              "38586   Woodbridge by Robert Mondavi  \n",
              "48972              Maycas del Limari  \n",
              "5950                   Viña Herminia  "
            ]
          },
          "metadata": {
            "tags": []
          },
          "execution_count": 5
        }
      ]
    },
    {
      "metadata": {
        "id": "z3Wmm4SIxf0F",
        "colab_type": "code",
        "colab": {
          "base_uri": "https://localhost:8080/",
          "height": 52
        },
        "outputId": "958a9ea3-6865-4c7a-bf3b-ede368437df6"
      },
      "cell_type": "code",
      "source": [
        "# Split data into train and test\n",
        "train_size = int(len(data) * .8)\n",
        "print (\"Train size: %d\" % train_size)\n",
        "print (\"Test size: %d\" % (len(data) - train_size))"
      ],
      "execution_count": 6,
      "outputs": [
        {
          "output_type": "stream",
          "text": [
            "Train size: 95646\n",
            "Test size: 23912\n"
          ],
          "name": "stdout"
        }
      ]
    },
    {
      "metadata": {
        "id": "ma8X1vxpxmy7",
        "colab_type": "code",
        "colab": {
          "base_uri": "https://localhost:8080/",
          "height": 34
        },
        "outputId": "dc41f278-ac38-45c5-ec8e-e3ebed7cbdb9"
      },
      "cell_type": "code",
      "source": [
        "print (\"Data length: %d\" % len(data))"
      ],
      "execution_count": 13,
      "outputs": [
        {
          "output_type": "stream",
          "text": [
            "Data length: 119558\n"
          ],
          "name": "stdout"
        }
      ]
    },
    {
      "metadata": {
        "id": "TAb60BrVyIGl",
        "colab_type": "code",
        "colab": {}
      },
      "cell_type": "code",
      "source": [
        ""
      ],
      "execution_count": 0,
      "outputs": []
    }
  ]
}